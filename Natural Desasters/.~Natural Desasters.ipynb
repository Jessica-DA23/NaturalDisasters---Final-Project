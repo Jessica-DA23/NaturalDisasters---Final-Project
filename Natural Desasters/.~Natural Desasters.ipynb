{
 "cells": [
  {
   "cell_type": "code",
   "execution_count": null,
   "id": "83212c93",
   "metadata": {},
   "outputs": [],
   "source": [
    "import pandas as pd"
   ]
  },
  {
   "cell_type": "code",
   "execution_count": null,
   "id": "f631b724",
   "metadata": {},
   "outputs": [],
   "source": [
    "disasters = pd.read_csv('1900_2021_DISASTERS.xlsx - emdat data.csv')\n",
    "disasters\n",
    "#'1970_2021_DISASTERS.csv'"
   ]
  },
  {
   "cell_type": "code",
   "execution_count": null,
   "id": "63e94f58",
   "metadata": {},
   "outputs": [],
   "source": [
    "disasters.columns = disasters.columns.str.lower()\n",
    "disasters.columns = disasters.columns.str.replace(' ','_')\n",
    "disasters.columns"
   ]
  },
  {
   "cell_type": "code",
   "execution_count": null,
   "id": "fc0dc26c",
   "metadata": {},
   "outputs": [],
   "source": [
    "disasters.isnull().sum()"
   ]
  },
  {
   "cell_type": "code",
   "execution_count": null,
   "id": "b671542c",
   "metadata": {},
   "outputs": [],
   "source": [
    "disasters = disasters.drop(columns=['glide', 'disaster_subsubtype', 'event_name', 'location', 'associated_dis2', 'ofda_response',\n",
    "                                    'appeal', 'declaration', 'aid_contribution', 'dis_mag_value', 'dis_mag_scale', 'latitude', \n",
    "                                   'longitude', 'local_time', 'river_basin', 'start_day', 'end_day', 'no_injured', 'no_affected',\n",
    "                                   'no_homeless', \"insured_damages_('000_us$)\", \"total_damages_('000_us$)\",\n",
    "                                   'geo_locations', 'admin2_code', 'admin1_code', 'adm_level', 'cpi', 'seq', 'iso', 'associated_dis', 'origin',\n",
    "                                   'disaster_subtype', 'total_affected', 'start_year', 'end_year'])\n",
    "disasters\n",
    "\n",
    "#\"reconstruction_costs_('000_us$)\"  'dis_no'"
   ]
  },
  {
   "cell_type": "code",
   "execution_count": null,
   "id": "971f3cae",
   "metadata": {},
   "outputs": [],
   "source": [
    "disasters.isnull().sum()"
   ]
  },
  {
   "cell_type": "code",
   "execution_count": null,
   "id": "ba4bbb49",
   "metadata": {},
   "outputs": [],
   "source": [
    "disasters.value_counts('end_month')"
   ]
  },
  {
   "cell_type": "code",
   "execution_count": null,
   "id": "fa494462",
   "metadata": {
    "scrolled": false
   },
   "outputs": [],
   "source": [
    "# List of desired subgroups\n",
    "desired_subgroups = ['Hydrological', 'Meteorological', 'Geophysical', 'Climatological']\n",
    "\n",
    "# Filter the DataFrame to keep only the rows with desired subgroups\n",
    "disasters = disasters[disasters['disaster_subgroup'].isin(desired_subgroups)]\n",
    "\n",
    "# Display the first few rows of the filtered DataFrame\n",
    "disasters"
   ]
  },
  {
   "cell_type": "code",
   "execution_count": null,
   "id": "869e63cd",
   "metadata": {},
   "outputs": [],
   "source": [
    "disasters.info()"
   ]
  },
  {
   "cell_type": "code",
   "execution_count": null,
   "id": "02f5e6d1",
   "metadata": {},
   "outputs": [],
   "source": [
    "#Null values\n",
    "disasters['total_deaths'].fillna(disasters['total_deaths'].median(), inplace=True)"
   ]
  },
  {
   "cell_type": "code",
   "execution_count": null,
   "id": "1f16ec9a",
   "metadata": {},
   "outputs": [],
   "source": [
    "# Filling null values in the 'start_month' column with the mode\n",
    "disasters['start_month'].fillna(disasters['start_month'].mode()[0], inplace=True)\n",
    "# Filling null values in the 'end_month' column with the mode\n",
    "disasters['end_month'].fillna(disasters['end_month'].mode()[0], inplace=True)"
   ]
  },
  {
   "cell_type": "code",
   "execution_count": null,
   "id": "782aa3c9",
   "metadata": {},
   "outputs": [],
   "source": [
    "disasters.isnull().sum()"
   ]
  },
  {
   "cell_type": "code",
   "execution_count": null,
   "id": "23f4b4ec",
   "metadata": {},
   "outputs": [],
   "source": [
    "import matplotlib.pyplot as plt\n",
    "import seaborn as sns\n",
    "\n",
    "# Gráfico de dispersão para 'total_deaths' em relação a outra variável (exemplo: 'start_month')\n",
    "plt.figure(figsize=(8, 6))\n",
    "sns.scatterplot(x='start_month', y='total_deaths', data=disasters)\n",
    "plt.title('Relação entre Mês de Início e Número de Mortes')\n",
    "plt.show()"
   ]
  },
  {
   "cell_type": "code",
   "execution_count": null,
   "id": "a216c4f3",
   "metadata": {},
   "outputs": [],
   "source": [
    "# Agrupe por ano e visualize a contagem de ocorrências\n",
    "dados_por_ano = disasters.groupby('year')['total_deaths'].count()\n",
    "plt.figure(figsize=(12, 8))\n",
    "dados_por_ano.plot(kind='bar')\n",
    "plt.title('Número de Ocorrências por Ano')\n",
    "plt.xlabel('Ano')\n",
    "plt.ylabel('Número de Ocorrências')\n",
    "plt.show()"
   ]
  },
  {
   "cell_type": "code",
   "execution_count": null,
   "id": "d33f87fe",
   "metadata": {},
   "outputs": [],
   "source": [
    "import geopandas as gpd\n",
    "\n",
    "# Load the Natural Earth dataset with country geometries\n",
    "world = gpd.read_file(gpd.datasets.get_path('naturalearth_lowres'))"
   ]
  },
  {
   "cell_type": "code",
   "execution_count": null,
   "id": "2f2767da",
   "metadata": {},
   "outputs": [],
   "source": [
    "#Merge Geospatial Data with Disaster Data:\n",
    "merged_data = world.merge(disasters, how='left', left_on='name', right_on='country')\n",
    "merged_data"
   ]
  },
  {
   "cell_type": "code",
   "execution_count": null,
   "id": "f3657c1a",
   "metadata": {},
   "outputs": [],
   "source": [
    "#Map Distribution of Different Types of Disasters:\n",
    "\n",
    "import matplotlib.pyplot as plt\n",
    "\n",
    "# Assuming 'disaster_type' is the column indicating the type of disaster\n",
    "fig, ax = plt.subplots(1, 1, figsize=(15, 10))\n",
    "merged_data.plot(column='disaster_type', legend=True, ax=ax, legend_kwds={'bbox_to_anchor': (1, 1)})\n",
    "plt.title('Distribution of Different Types of Disasters')\n",
    "plt.show()"
   ]
  },
  {
   "cell_type": "code",
   "execution_count": null,
   "id": "8e22f565",
   "metadata": {},
   "outputs": [],
   "source": [
    "import plotly.express as px\n",
    "\n",
    "fig = px.choropleth(merged_data, geojson=merged_data.geometry, locations=merged_data.index,\n",
    "                    color='disaster_type', projection='natural earth')\n",
    "fig.update_geos(showcoastlines=True, coastlinecolor=\"black\", showland=True, landcolor=\"lightgray\")\n",
    "fig.update_layout(title='Distribution of Different Types of Disasters')\n",
    "fig.show()"
   ]
  },
  {
   "cell_type": "code",
   "execution_count": null,
   "id": "6dc1f852",
   "metadata": {},
   "outputs": [],
   "source": [
    "#Desastre mais ocurrido em cada ano\n",
    "\n",
    "grouped_data = disasters.groupby(['year', 'disaster_type']).size().reset_index(name='occurrences')\n",
    "#Identifying the Most Occurred Disaster in Each Year:\n",
    "idx = grouped_data.groupby(['year'])['occurrences'].transform(max) == grouped_data['occurrences']\n",
    "most_occurred_per_year = grouped_data[idx]"
   ]
  },
  {
   "cell_type": "code",
   "execution_count": null,
   "id": "2ec90e55",
   "metadata": {},
   "outputs": [],
   "source": [
    "# Example visualization using matplotlib\n",
    "import matplotlib.pyplot as plt\n",
    "\n",
    "plt.figure(figsize=(12, 8))\n",
    "for year, group in most_occurred_per_year.groupby('year'):\n",
    "    plt.bar(year, group['occurrences'], label=f'{year}: {group[\"disaster_type\"].values[0]}')\n",
    "\n",
    "plt.xlabel('Year')\n",
    "plt.ylabel('Number of Occurrences')\n",
    "plt.title('Most Occurred Disaster in Each Year')\n",
    "plt.legend()\n",
    "plt.show()"
   ]
  },
  {
   "cell_type": "code",
   "execution_count": null,
   "id": "62050589",
   "metadata": {},
   "outputs": [],
   "source": [
    "#Desastre que mais ocurreu em cada pais em cada ano\n",
    "\n",
    "grouped_data = disasters.groupby(['year', 'country', 'disaster_type']).size().reset_index(name='occurrences')\n",
    "idx = grouped_data.groupby(['year', 'country'])['occurrences'].transform(max) == grouped_data['occurrences']\n",
    "most_occurred_per_country_year = grouped_data[idx]"
   ]
  },
  {
   "cell_type": "code",
   "execution_count": null,
   "id": "0c0690c2",
   "metadata": {},
   "outputs": [],
   "source": [
    "import geopandas as gpd\n",
    "import plotly.express as px\n",
    "\n",
    "# Group by Year, Country, and Disaster Type\n",
    "grouped_data = disasters.groupby(['year', 'country', 'disaster_type']).size().reset_index(name='occurrences')\n",
    "\n",
    "# Identify the Most Occurred Disaster in Each Country and Year\n",
    "idx = grouped_data.groupby(['year', 'country'])['occurrences'].transform(max) == grouped_data['occurrences']\n",
    "most_occurred_per_country_year = grouped_data[idx]\n",
    "\n",
    "# Load Geospatial Data\n",
    "world = gpd.read_file(gpd.datasets.get_path('naturalearth_lowres'))\n",
    "\n",
    "# Create Maps for Each Year\n",
    "for year in most_occurred_per_country_year['year'].unique():\n",
    "    filtered_data = most_occurred_per_country_year[most_occurred_per_country_year['year'] == year]\n",
    "    \n",
    "    # Merge Geospatial Data with Disaster Data\n",
    "    merged_data = world.merge(filtered_data, how='left', left_on='name', right_on='country')\n",
    "    \n",
    "    # Visualization with Plotly Express\n",
    "    fig = px.choropleth(merged_data, geojson=merged_data.geometry, locations=merged_data.index,\n",
    "                        color='disaster_type', projection='natural earth',\n",
    "                        title=f'Most Occurred Disaster Type in Each Country in {year}')\n",
    "    fig.update_geos(showcoastlines=True, coastlinecolor=\"black\", showland=True, landcolor=\"lightgray\")\n",
    "    fig.show()"
   ]
  },
  {
   "cell_type": "code",
   "execution_count": null,
   "id": "7b8ae81e",
   "metadata": {},
   "outputs": [],
   "source": []
  },
  {
   "cell_type": "code",
   "execution_count": null,
   "id": "ce2f6cd7",
   "metadata": {},
   "outputs": [],
   "source": [
    "disasters2 = pd.read_csv('1900_2021_DISASTERS.xlsx - emdat data.csv')\n",
    "disasters2"
   ]
  },
  {
   "cell_type": "code",
   "execution_count": null,
   "id": "be322976",
   "metadata": {},
   "outputs": [],
   "source": [
    "disasters2.isnull().sum()"
   ]
  },
  {
   "cell_type": "code",
   "execution_count": null,
   "id": "488e9d5f",
   "metadata": {},
   "outputs": [],
   "source": []
  }
 ],
 "metadata": {
  "kernelspec": {
   "display_name": "Python 3 (ipykernel)",
   "language": "python",
   "name": "python3"
  },
  "language_info": {
   "codemirror_mode": {
    "name": "ipython",
    "version": 3
   },
   "file_extension": ".py",
   "mimetype": "text/x-python",
   "name": "python",
   "nbconvert_exporter": "python",
   "pygments_lexer": "ipython3",
   "version": "3.11.4"
  }
 },
 "nbformat": 4,
 "nbformat_minor": 5
}
